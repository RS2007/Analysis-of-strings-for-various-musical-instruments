{
 "cells": [
  {
   "cell_type": "code",
   "execution_count": 104,
   "metadata": {},
   "outputs": [],
   "source": [
    "import numpy as np\n",
    "from scipy.optimize import curve_fit\n",
    "import csv"
   ]
  },
  {
   "attachments": {},
   "cell_type": "markdown",
   "metadata": {},
   "source": [
    "### Technique\n",
    "Fixed parameters:\n",
    "1. length of the instrument\n",
    "2. Young's modulus\n",
    "3. Density\n",
    "4. Tensile strength\n",
    "\n",
    "Frequency is found using the formula $T = \\frac{1}{2L}*{\\sqrt{\\frac{T}{\\mu}}}$"
   ]
  },
  {
   "cell_type": "code",
   "execution_count": 105,
   "metadata": {},
   "outputs": [],
   "source": [
    "L_guitar = 0.65\n",
    "L_violin = 0.32\n",
    "L_veena = 0.84\n",
    "L_sitar = 0.86\n",
    "\n",
    "fields = [\"SWG\",\"Frequency\",\"Tension\",\"Inharmonicity\"]"
   ]
  },
  {
   "cell_type": "code",
   "execution_count": 106,
   "metadata": {},
   "outputs": [],
   "source": [
    "T_max_gs = 150\n",
    "T_max_vv = 100\n",
    "rho_steel = 7800\n",
    "E_steel = 210*1e9\n",
    "TS_steel = 2000*1e6\n",
    "rho_bronze  = 8800\n",
    "E_bronze = 110*1e9\n",
    "TS_bronze = 965*1e6\n",
    "rho_brass = 8670\n",
    "E_brass = 110*1e9\n",
    "TS_brass = 800*1e6\n"
   ]
  },
  {
   "cell_type": "code",
   "execution_count": 107,
   "metadata": {},
   "outputs": [
    {
     "name": "stdout",
     "output_type": "stream",
     "text": [
      "---GUITAR---\n",
      "-----------\n"
     ]
    }
   ],
   "source": [
    "def circ_area_diam(d):\n",
    "\treturn (np.pi*(d**2))/4\n",
    "\n",
    "def compute_mu(rho,area):\n",
    "\treturn rho*area\n",
    "\n",
    "def f_harmonic(L,T,mu):\n",
    "\treturn (1/2*L)*(np.sqrt(T/mu))\n",
    "\n",
    "def T_from_wave_eqn(f,L,mu):\n",
    "\treturn (4*(f**2)*(L**2))*mu\n",
    "\n",
    "def f_inharmonic_n(f_1,B,n):\n",
    "\treturn n*(f_1)*(np.sqrt(1+(B*(n**2))))\n",
    "\n",
    "def calculate_inharmonicity(E,A,k,T,L):\n",
    "\treturn ((np.pi**2)*(E)*(A)*(k**2))/(T*(L**2))\n",
    "\n",
    "def calculate_freq_deviation(inharmonicity):\n",
    "\treturn (np.sqrt(1+inharmonicity)-1)\n",
    "\n",
    "\n",
    "\n",
    "guitar_frequencies = [float(freq.strip('\\n')) for freq in open(\"./guitar_frequencies.txt\").readlines()]\n",
    "violin_frequencies = [float(freq.strip('\\n')) for freq in open(\"./violin_frequencies.txt\").readlines()]\n",
    "veena_frequencies = [float(freq.strip('\\n')) for freq in open(\"./veena_frequencies.txt\").readlines()]\n",
    "sitar_frequencies_length = [[float(x) for x in elem.strip('\\n').split('\\t')] for elem in open(\"./sitar_frequencies_lengths.txt\").readlines()]\n",
    "#print(sitar_frequencies_length)\n",
    "\n",
    "\n",
    "swg_mm = open(\"./swg_mm.txt\").readlines()\n",
    "\n",
    "swg_mm_dict = {}\n",
    "for str in swg_mm:\n",
    "\t[swg_value,dia_mm] = str.strip('\\n').split('\\t')\n",
    "\tswg_mm_dict[float(swg_value)] = float(dia_mm)\n",
    "\n",
    "\n",
    "\n",
    "print(\"---GUITAR---\")\n",
    "result_guitar = []\n",
    "for freq in guitar_frequencies:\n",
    "\tfor [swg,dia] in swg_mm_dict.items():\n",
    "\t\ttension = T_from_wave_eqn(freq,L_guitar,compute_mu(rho_steel,circ_area_diam(dia*1e-3)))\n",
    "\t\tisWithinTS = (0.25*TS_steel*circ_area_diam(dia*1e-3) <= tension <= 0.75*TS_steel*circ_area_diam(dia*1e-3))\n",
    "\t\tisWithinTMax = tension <= T_max_gs\n",
    "\t\tinharmonicity = calculate_inharmonicity(E_steel,np.pi*((dia*1e-3)**2/4),((dia*1e-3)**2)/16,tension,L_guitar*1e-3)\n",
    "\t\tisInharmonicityInRange = inharmonicity < 5e-5\n",
    "\t\tisFreqDeviationWithinLimits = calculate_freq_deviation(inharmonicity) < 1e-4\n",
    "\n",
    "\t\tif isWithinTS and isWithinTMax and isFreqDeviationWithinLimits and isInharmonicityInRange:\n",
    "\t\t\tresult_guitar.append([swg,freq,tension,inharmonicity])\n",
    "with open(\"guitar_steel_strings.csv\",'w') as veena_steel_strings:\n",
    "\tcsvwriter = csv.writer(veena_steel_strings)\n",
    "\tcsvwriter.writerow(fields)\n",
    "\tcsvwriter.writerows(result_guitar)\n",
    "print(\"-----------\")\n",
    "\n",
    "\n",
    "\n",
    "\n"
   ]
  },
  {
   "cell_type": "code",
   "execution_count": 108,
   "metadata": {},
   "outputs": [
    {
     "name": "stdout",
     "output_type": "stream",
     "text": [
      "---VIOLIN---\n",
      "-----------\n"
     ]
    }
   ],
   "source": [
    "\n",
    "print(\"---VIOLIN---\")\n",
    "result_violin = []\n",
    "for freq in violin_frequencies:\n",
    "\tfor [swg,dia] in swg_mm_dict.items():\n",
    "\t\ttension = T_from_wave_eqn(freq,L_violin,compute_mu(rho_steel,circ_area_diam(dia*1e-3)))\n",
    "\t\tisWithinTS = (0.25*TS_steel*circ_area_diam(dia*1e-3) <= tension <= 0.75*TS_steel*circ_area_diam(dia*1e-3))\n",
    "\t\tisWithinTMax = tension <= T_max_vv\n",
    "\t\tinharmonicity = calculate_inharmonicity(E_steel,np.pi*((dia*1e-3)**2/4),((dia*1e-3)**2)/16,tension,L_violin*1e-3)\n",
    "\t\tisInharmonicityInRange = inharmonicity < 5e-5\n",
    "\t\tisFreqDeviationWithinLimits = calculate_freq_deviation(inharmonicity) < 1e-4\n",
    "\t\tif isWithinTS and isWithinTMax and isFreqDeviationWithinLimits and isInharmonicityInRange:\n",
    "\t\t\tresult_violin.append([swg,freq,tension,inharmonicity])\n",
    "with open(\"violin_steel_strings.csv\",'w') as veena_steel_strings:\n",
    "\tcsvwriter = csv.writer(veena_steel_strings)\n",
    "\tcsvwriter.writerow(fields)\n",
    "\tcsvwriter.writerows(result_violin)\n",
    "print(\"-----------\")\n",
    "\n",
    "\n",
    "\n"
   ]
  },
  {
   "cell_type": "code",
   "execution_count": 109,
   "metadata": {},
   "outputs": [
    {
     "name": "stdout",
     "output_type": "stream",
     "text": [
      "---SITAR---\n",
      "-----------\n"
     ]
    }
   ],
   "source": [
    "print(\"---SITAR---\")\n",
    "result_sitar = []\n",
    "for [freq,L_sitar] in sitar_frequencies_length:\n",
    "\tfor [swg,dia] in swg_mm_dict.items():\n",
    "\t\ttension = T_from_wave_eqn(freq,L_sitar*1e-3,compute_mu(rho_steel,circ_area_diam(dia*1e-3)))\n",
    "\t\tisWithinTS = (0.25*TS_steel*circ_area_diam(dia*1e-3) <= tension <= 0.75*TS_steel*circ_area_diam(dia*1e-3))\n",
    "\t\tisWithinTMax = tension <= T_max_gs\n",
    "\t\tinharmonicity = calculate_inharmonicity(E_steel,np.pi*((dia*1e-3)**2/4),((dia*1e-3)**2)/16,tension,L_sitar*1e-3)\n",
    "\t\tisInharmonicityInRange = inharmonicity < 5e-5\n",
    "\t\tisFreqDeviationWithinLimits = calculate_freq_deviation(inharmonicity) < 1e-4\n",
    "\t\tif isWithinTS and isWithinTMax and isFreqDeviationWithinLimits and isInharmonicityInRange:\n",
    "\t\t\tresult_sitar.append([swg,freq,tension,inharmonicity])\n",
    "with open(\"sitar_steel_strings.csv\",'w') as sitar_steel_strings:\n",
    "\tcsvwriter = csv.writer(sitar_steel_strings)\n",
    "\tcsvwriter.writerow(fields)\n",
    "\tcsvwriter.writerows(result_sitar)\n",
    "print(\"-----------\")"
   ]
  },
  {
   "cell_type": "code",
   "execution_count": 110,
   "metadata": {},
   "outputs": [
    {
     "name": "stdout",
     "output_type": "stream",
     "text": [
      "----VEENA-----\n",
      "-----------\n"
     ]
    }
   ],
   "source": [
    "print(\"----VEENA-----\")\n",
    "result_veena = []\n",
    "for freq in veena_frequencies:\n",
    "\tfor [swg,dia] in swg_mm_dict.items():\n",
    "\t\ttension = T_from_wave_eqn(freq,L_veena,compute_mu(rho_steel,circ_area_diam(dia*1e-3)))\n",
    "\t\tisWithinTS = (0.25*TS_steel*circ_area_diam(dia*1e-3) <= tension <= 0.75*TS_steel*circ_area_diam(dia*1e-3))\n",
    "\t\tisWithinTMax = tension <= T_max_vv\n",
    "\t\tinharmonicity = calculate_inharmonicity(E_steel,np.pi*((dia*1e-3)**2/4),((dia*1e-3)**2)/16,tension,L_veena*1e-3)\n",
    "\t\tisInharmonicityInRange = inharmonicity < 5e-5\n",
    "\t\tisFreqDeviationWithinLimits = calculate_freq_deviation(inharmonicity) < 1e-4\n",
    "\t\tif isWithinTS and isWithinTMax and isFreqDeviationWithinLimits and isInharmonicityInRange:\n",
    "\t\t\tresult_veena.append([swg,freq,tension,inharmonicity])\n",
    "with open(\"veena_steel_strings.csv\",'w') as veena_steel_strings:\n",
    "\tcsvwriter = csv.writer(veena_steel_strings)\n",
    "\tcsvwriter.writerow(fields)\n",
    "\tcsvwriter.writerows(result_veena)\n",
    "print(\"-----------\")"
   ]
  },
  {
   "cell_type": "code",
   "execution_count": 111,
   "metadata": {},
   "outputs": [
    {
     "name": "stdout",
     "output_type": "stream",
     "text": [
      "---GUITAR---\n",
      "-----------\n"
     ]
    }
   ],
   "source": [
    "print(\"---GUITAR---\")\n",
    "result_guitar = []\n",
    "for freq in guitar_frequencies:\n",
    "\tfor [swg,dia] in swg_mm_dict.items():\n",
    "\t\ttension = T_from_wave_eqn(freq,L_guitar,compute_mu(rho_brass,circ_area_diam(dia*1e-3)))\n",
    "\t\tisWithinTS = (0.25*TS_brass*circ_area_diam(dia*1e-3) <= tension <= 0.75*TS_brass*circ_area_diam(dia*1e-3))\n",
    "\t\tisWithinTMax = tension <= T_max_gs\n",
    "\t\tinharmonicity = calculate_inharmonicity(E_brass,np.pi*((dia*1e-3)**2/4),((dia*1e-3)**2)/16,tension,L_guitar*1e-3)\n",
    "\t\tisInharmonicityInRange = inharmonicity < 5e-5\n",
    "\t\tisFreqDeviationWithinLimits = calculate_freq_deviation(inharmonicity) < 1e-4\n",
    "\n",
    "\t\tif isWithinTS and isWithinTMax and isFreqDeviationWithinLimits and isInharmonicityInRange:\n",
    "\t\t\tresult_guitar.append([swg,freq,tension,inharmonicity])\n",
    "with open(\"guitar_brass_strings.csv\",'w') as veena_brass_strings:\n",
    "\tcsvwriter = csv.writer(veena_brass_strings)\n",
    "\tcsvwriter.writerow(fields)\n",
    "\tcsvwriter.writerows(result_guitar)\n",
    "print(\"-----------\")\n"
   ]
  },
  {
   "cell_type": "code",
   "execution_count": 112,
   "metadata": {},
   "outputs": [
    {
     "name": "stdout",
     "output_type": "stream",
     "text": [
      "---VIOLIN---\n",
      "-----------\n"
     ]
    }
   ],
   "source": [
    "\n",
    "print(\"---VIOLIN---\")\n",
    "result_violin = []\n",
    "for freq in violin_frequencies:\n",
    "\tfor [swg,dia] in swg_mm_dict.items():\n",
    "\t\ttension = T_from_wave_eqn(freq,L_violin,compute_mu(rho_brass,circ_area_diam(dia*1e-3)))\n",
    "\t\tisWithinTS = (0.25*TS_brass*circ_area_diam(dia*1e-3) <= tension <= 0.75*TS_brass*circ_area_diam(dia*1e-3))\n",
    "\t\tisWithinTMax = tension <= T_max_vv\n",
    "\t\tinharmonicity = calculate_inharmonicity(E_brass,np.pi*((dia*1e-3)**2/4),((dia*1e-3)**2)/16,tension,L_violin*1e-3)\n",
    "\t\tisInharmonicityInRange = inharmonicity < 5e-5\n",
    "\t\tisFreqDeviationWithinLimits = calculate_freq_deviation(inharmonicity) < 1e-4\n",
    "\t\tif isWithinTS and isWithinTMax and isFreqDeviationWithinLimits and isInharmonicityInRange:\n",
    "\t\t\tresult_violin.append([swg,freq,tension,inharmonicity])\n",
    "with open(\"violin_brass_strings.csv\",'w') as veena_brass_strings:\n",
    "\tcsvwriter = csv.writer(veena_brass_strings)\n",
    "\tcsvwriter.writerow(fields)\n",
    "\tcsvwriter.writerows(result_violin)\n",
    "print(\"-----------\")"
   ]
  },
  {
   "cell_type": "code",
   "execution_count": 113,
   "metadata": {},
   "outputs": [
    {
     "name": "stdout",
     "output_type": "stream",
     "text": [
      "---SITAR---\n",
      "-----------\n"
     ]
    }
   ],
   "source": [
    "\n",
    "print(\"---SITAR---\")\n",
    "result_sitar = []\n",
    "for [freq,L_sitar] in sitar_frequencies_length:\n",
    "\tfor [swg,dia] in swg_mm_dict.items():\n",
    "\t\ttension = T_from_wave_eqn(freq,L_sitar*1e-3,compute_mu(rho_brass,circ_area_diam(dia*1e-3)))\n",
    "\t\tisWithinTS = (0.25*TS_brass*circ_area_diam(dia*1e-3) <= tension <= 0.75*TS_brass*circ_area_diam(dia*1e-3))\n",
    "\t\tisWithinTMax = tension <= T_max_gs\n",
    "\t\tinharmonicity = calculate_inharmonicity(E_brass,np.pi*((dia*1e-3)**2/4),((dia*1e-3)**2)/16,tension,L_sitar*1e-3)\n",
    "\t\tisInharmonicityInRange = inharmonicity < 5e-5\n",
    "\t\tisFreqDeviationWithinLimits = calculate_freq_deviation(inharmonicity) < 1e-4\n",
    "\t\tif isWithinTS and isWithinTMax and isFreqDeviationWithinLimits and isInharmonicityInRange:\n",
    "\t\t\tresult_sitar.append([swg,freq,tension,inharmonicity])\n",
    "with open(\"sitar_brass_strings.csv\",'w') as sitar_brass_strings:\n",
    "\tcsvwriter = csv.writer(sitar_brass_strings)\n",
    "\tcsvwriter.writerow(fields)\n",
    "\tcsvwriter.writerows(result_sitar)\n",
    "print(\"-----------\")"
   ]
  },
  {
   "cell_type": "code",
   "execution_count": 114,
   "metadata": {},
   "outputs": [
    {
     "name": "stdout",
     "output_type": "stream",
     "text": [
      "----VEENA-----\n",
      "-----------\n"
     ]
    }
   ],
   "source": [
    "\n",
    "print(\"----VEENA-----\")\n",
    "result_veena = []\n",
    "for freq in veena_frequencies:\n",
    "\tfor [swg,dia] in swg_mm_dict.items():\n",
    "\t\ttension = T_from_wave_eqn(freq,L_veena,compute_mu(rho_brass,circ_area_diam(dia*1e-3)))\n",
    "\t\tisWithinTS = (0.25*TS_brass*circ_area_diam(dia*1e-3) <= tension <= 0.75*TS_brass*circ_area_diam(dia*1e-3))\n",
    "\t\tisWithinTMax = tension <= T_max_vv\n",
    "\t\tinharmonicity = calculate_inharmonicity(E_brass,np.pi*((dia*1e-3)**2/4),((dia*1e-3)**2)/16,tension,L_veena*1e-3)\n",
    "\t\tisInharmonicityInRange = inharmonicity < 5e-5\n",
    "\t\tisFreqDeviationWithinLimits = calculate_freq_deviation(inharmonicity) < 1e-4\n",
    "\t\tif isWithinTS and isWithinTMax and isFreqDeviationWithinLimits and isInharmonicityInRange:\n",
    "\t\t\tresult_veena.append([swg,freq,tension,inharmonicity])\n",
    "with open(\"veena_brass_strings.csv\",'w') as veena_brass_strings:\n",
    "\tcsvwriter = csv.writer(veena_brass_strings)\n",
    "\tcsvwriter.writerow(fields)\n",
    "\tcsvwriter.writerows(result_veena)\n",
    "print(\"-----------\")"
   ]
  },
  {
   "cell_type": "code",
   "execution_count": 115,
   "metadata": {},
   "outputs": [
    {
     "name": "stdout",
     "output_type": "stream",
     "text": [
      "---GUITAR---\n",
      "-----------\n"
     ]
    }
   ],
   "source": [
    "\n",
    "print(\"---GUITAR---\")\n",
    "result_guitar = []\n",
    "for freq in guitar_frequencies:\n",
    "\tfor [swg,dia] in swg_mm_dict.items():\n",
    "\t\ttension = T_from_wave_eqn(freq,L_guitar,compute_mu(rho_bronze,circ_area_diam(dia*1e-3)))\n",
    "\t\tisWithinTS = (0.25*TS_bronze*circ_area_diam(dia*1e-3) <= tension <= 0.75*TS_bronze*circ_area_diam(dia*1e-3))\n",
    "\t\tisWithinTMax = tension <= T_max_gs\n",
    "\t\tinharmonicity = calculate_inharmonicity(E_bronze,np.pi*((dia*1e-3)**2/4),((dia*1e-3)**2)/16,tension,L_guitar*1e-3)\n",
    "\t\tisInharmonicityInRange = inharmonicity < 5e-5\n",
    "\t\tisFreqDeviationWithinLimits = calculate_freq_deviation(inharmonicity) < 1e-4\n",
    "\n",
    "\t\tif isWithinTS and isWithinTMax and isFreqDeviationWithinLimits and isInharmonicityInRange:\n",
    "\t\t\tresult_guitar.append([swg,freq,tension,inharmonicity])\n",
    "with open(\"guitar_bronze_strings.csv\",'w') as veena_bronze_strings:\n",
    "\tcsvwriter = csv.writer(veena_bronze_strings)\n",
    "\tcsvwriter.writerow(fields)\n",
    "\tcsvwriter.writerows(result_guitar)\n",
    "print(\"-----------\")\n"
   ]
  },
  {
   "cell_type": "code",
   "execution_count": 116,
   "metadata": {},
   "outputs": [
    {
     "name": "stdout",
     "output_type": "stream",
     "text": [
      "---VIOLIN---\n",
      "-----------\n"
     ]
    }
   ],
   "source": [
    "\n",
    "print(\"---VIOLIN---\")\n",
    "result_violin = []\n",
    "for freq in violin_frequencies:\n",
    "\tfor [swg,dia] in swg_mm_dict.items():\n",
    "\t\ttension = T_from_wave_eqn(freq,L_violin,compute_mu(rho_bronze,circ_area_diam(dia*1e-3)))\n",
    "\t\tisWithinTS = (0.25*TS_bronze*circ_area_diam(dia*1e-3) <= tension <= 0.75*TS_bronze*circ_area_diam(dia*1e-3))\n",
    "\t\tisWithinTMax = tension <= T_max_vv\n",
    "\t\tinharmonicity = calculate_inharmonicity(E_bronze,np.pi*((dia*1e-3)**2/4),((dia*1e-3)**2)/16,tension,L_violin*1e-3)\n",
    "\t\tisInharmonicityInRange = inharmonicity < 5e-5\n",
    "\t\tisFreqDeviationWithinLimits = calculate_freq_deviation(inharmonicity) < 1e-4\n",
    "\t\tif isWithinTS and isWithinTMax and isFreqDeviationWithinLimits and isInharmonicityInRange:\n",
    "\t\t\tresult_violin.append([swg,freq,tension,inharmonicity])\n",
    "with open(\"violin_bronze_strings.csv\",'w') as veena_bronze_strings:\n",
    "\tcsvwriter = csv.writer(veena_bronze_strings)\n",
    "\tcsvwriter.writerow(fields)\n",
    "\tcsvwriter.writerows(result_violin)\n",
    "print(\"-----------\")"
   ]
  },
  {
   "cell_type": "code",
   "execution_count": 117,
   "metadata": {},
   "outputs": [
    {
     "name": "stdout",
     "output_type": "stream",
     "text": [
      "---SITAR---\n",
      "-----------\n"
     ]
    }
   ],
   "source": [
    "\n",
    "print(\"---SITAR---\")\n",
    "result_sitar = []\n",
    "for [freq,L_sitar] in sitar_frequencies_length:\n",
    "\tfor [swg,dia] in swg_mm_dict.items():\n",
    "\t\ttension = T_from_wave_eqn(freq,L_sitar*1e-3,compute_mu(rho_bronze,circ_area_diam(dia*1e-3)))\n",
    "\t\tisWithinTS = (0.25*TS_bronze*circ_area_diam(dia*1e-3) <= tension <= 0.75*TS_bronze*circ_area_diam(dia*1e-3))\n",
    "\t\tisWithinTMax = tension <= T_max_gs\n",
    "\t\tinharmonicity = calculate_inharmonicity(E_bronze,np.pi*((dia*1e-3)**2/4),((dia*1e-3)**2)/16,tension,L_sitar*1e-3)\n",
    "\t\tisInharmonicityInRange = inharmonicity < 5e-5\n",
    "\t\tisFreqDeviationWithinLimits = calculate_freq_deviation(inharmonicity) < 1e-4\n",
    "\t\tif isWithinTS and isWithinTMax and isFreqDeviationWithinLimits and isInharmonicityInRange:\n",
    "\t\t\tresult_sitar.append([swg,freq,tension,inharmonicity])\n",
    "with open(\"sitar_bronze_strings.csv\",'w') as sitar_bronze_strings:\n",
    "\tcsvwriter = csv.writer(sitar_bronze_strings)\n",
    "\tcsvwriter.writerow(fields)\n",
    "\tcsvwriter.writerows(result_sitar)\n",
    "print(\"-----------\")"
   ]
  },
  {
   "cell_type": "code",
   "execution_count": 118,
   "metadata": {},
   "outputs": [
    {
     "name": "stdout",
     "output_type": "stream",
     "text": [
      "----VEENA-----\n",
      "-----------\n"
     ]
    }
   ],
   "source": [
    "\n",
    "print(\"----VEENA-----\")\n",
    "result_veena = []\n",
    "for freq in veena_frequencies:\n",
    "\tfor [swg,dia] in swg_mm_dict.items():\n",
    "\t\ttension = T_from_wave_eqn(freq,L_veena,compute_mu(rho_bronze,circ_area_diam(dia*1e-3)))\n",
    "\t\tisWithinTS = (0.25*TS_bronze*circ_area_diam(dia*1e-3) <= tension <= 0.75*TS_bronze*circ_area_diam(dia*1e-3))\n",
    "\t\tisWithinTMax = tension <= T_max_vv\n",
    "\t\tinharmonicity = calculate_inharmonicity(E_bronze,np.pi*((dia*1e-3)**2/4),((dia*1e-3)**2)/16,tension,L_veena*1e-3)\n",
    "\t\tisInharmonicityInRange = inharmonicity < 5e-5\n",
    "\t\tisFreqDeviationWithinLimits = calculate_freq_deviation(inharmonicity) < 1e-4\n",
    "\t\tif isWithinTS and isWithinTMax and isFreqDeviationWithinLimits and isInharmonicityInRange:\n",
    "\t\t\tresult_veena.append([swg,freq,tension,inharmonicity])\n",
    "with open(\"veena_bronze_strings.csv\",'w') as veena_bronze_strings:\n",
    "\tcsvwriter = csv.writer(veena_bronze_strings)\n",
    "\tcsvwriter.writerow(fields)\n",
    "\tcsvwriter.writerows(result_veena)\n",
    "print(\"-----------\")"
   ]
  }
 ],
 "metadata": {
  "kernelspec": {
   "display_name": "Python 3",
   "language": "python",
   "name": "python3"
  },
  "language_info": {
   "codemirror_mode": {
    "name": "ipython",
    "version": 3
   },
   "file_extension": ".py",
   "mimetype": "text/x-python",
   "name": "python",
   "nbconvert_exporter": "python",
   "pygments_lexer": "ipython3",
   "version": "3.8.10"
  },
  "orig_nbformat": 4
 },
 "nbformat": 4,
 "nbformat_minor": 2
}
